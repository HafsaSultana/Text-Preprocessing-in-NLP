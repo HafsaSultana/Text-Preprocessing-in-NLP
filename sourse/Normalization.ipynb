{
  "nbformat": 4,
  "nbformat_minor": 0,
  "metadata": {
    "colab": {
      "provenance": []
    },
    "kernelspec": {
      "name": "python3",
      "display_name": "Python 3"
    },
    "language_info": {
      "name": "python"
    }
  },
  "cells": [
    {
      "cell_type": "markdown",
      "source": [
        "# Normalization\n",
        "\n",
        "Key Steps in Normalization:\n",
        "- Lowercasing: Changes all characters to lowercase (e.g., \"HELLO\" → \"hello\").\n",
        "- Removing Punctuation: Strips out symbols like commas and periods.\n",
        "     (e.g., \"Hi, there!\" → \"Hi there\").\n",
        "- Handling Contractions: Expands shortened forms (e.g., \"don’t\" → \"do not\").\n"
      ],
      "metadata": {
        "id": "dFd1wgnRORQL"
      }
    },
    {
      "cell_type": "code",
      "source": [
        "# Import necessary libraries\n",
        "import re\n",
        "import string\n",
        "import nltk\n",
        "import spacy\n",
        "from typing import List, Dict\n",
        "from nltk.tokenize import word_tokenize"
      ],
      "metadata": {
        "id": "J2lo3l3TPIob"
      },
      "execution_count": 11,
      "outputs": []
    },
    {
      "cell_type": "code",
      "execution_count": 12,
      "metadata": {
        "id": "G1lY5o18ONrV"
      },
      "outputs": [],
      "source": [
        "# Dictionary for common contractions\n",
        "CONTRACTIONS: Dict[str, str] = {\n",
        "    \"can't\": \"cannot\",\n",
        "    \"won't\": \"will not\",\n",
        "    \"n't\": \" not\",\n",
        "    \"'re\": \" are\",\n",
        "    \"'s\": \" is\",\n",
        "    \"'d\": \" would\",\n",
        "    \"'ll\": \" will\",\n",
        "    \"'t\": \" not\",\n",
        "    \"'ve\": \" have\",\n",
        "    \"'m\": \" am\"\n",
        "}"
      ]
    },
    {
      "cell_type": "code",
      "source": [
        "def expand_contractions(text: str) -> str:\n",
        "    \"\"\"\n",
        "    Expand common contractions in the text.\n",
        "\n",
        "    Parameters:\n",
        "    text (str): The input text containing contractions.\n",
        "\n",
        "    Returns:\n",
        "    str: The text with contractions expanded.\n",
        "    \"\"\"\n",
        "    # Iterate through the CONTRACTIONS dictionary and replace contractions with their expansions\n",
        "    for contraction, expansion in CONTRACTIONS.items():\n",
        "        # Use regex to find exact word boundaries for accurate replacement\n",
        "        text = re.sub(r'\\b' + re.escape(contraction) + r'\\b', expansion, text)\n",
        "    return text\n",
        "\n",
        "def remove_punctuation(text: str) -> str:\n",
        "    \"\"\"\n",
        "    Remove punctuation from the text.\n",
        "\n",
        "    Parameters:\n",
        "    text (str): The input text containing punctuation.\n",
        "\n",
        "    Returns:\n",
        "    str: The text without punctuation.\n",
        "    \"\"\"\n",
        "    # Use translate() with a translation table to remove all punctuation characters\n",
        "    return text.translate(str.maketrans('', '', string.punctuation))\n"
      ],
      "metadata": {
        "id": "PqhqSAM0O_0f"
      },
      "execution_count": 13,
      "outputs": []
    },
    {
      "cell_type": "code",
      "source": [
        "def normalize_text(text: str) -> str:\n",
        "    \"\"\"\n",
        "    Normalize text by:\n",
        "    1. Lowercasing the text.\n",
        "    2. Expanding contractions.\n",
        "    3. Removing punctuation.\n",
        "\n",
        "    Parameters:\n",
        "    text (str): The input text to normalize.\n",
        "\n",
        "    Returns:\n",
        "    str: The normalized text.\n",
        "    \"\"\"\n",
        "    # Step 1: Convert all characters to lowercase to ensure uniformity\n",
        "    text = text.lower()\n",
        "    print(\"Lowercased Text:\", text)\n",
        "\n",
        "    # Step 2: Expand contractions using the expand_contractions function\n",
        "    text = expand_contractions(text)\n",
        "    print(\"After Expanding Contractions:\", text)\n",
        "\n",
        "    # Step 3: Remove punctuation using the remove_punctuation function\n",
        "    text = remove_punctuation(text)\n",
        "    print(\"Tokens without Punctuation:\", text)\n",
        "\n",
        "    # Return the fully normalized text\n",
        "    return text\n",
        ""
      ],
      "metadata": {
        "id": "N6I_fGNUP1k4"
      },
      "execution_count": 14,
      "outputs": []
    },
    {
      "cell_type": "code",
      "source": [
        "# Example usage\n",
        "if __name__ == \"__main__\":\n",
        "    sample_text = \"I can't believe it's not butter! You're amazing, aren't you?\"\n",
        "    normalized_text = normalize_text(sample_text)\n",
        "    print(\"\\nOriginal Text:\", sample_text)\n",
        "    print(\"Normalized Text:\", normalized_text)\n"
      ],
      "metadata": {
        "colab": {
          "base_uri": "https://localhost:8080/"
        },
        "id": "lXBiRObJPG8R",
        "outputId": "c6a2bcf7-723c-4ec7-e35a-c686f93dc6b1"
      },
      "execution_count": 15,
      "outputs": [
        {
          "output_type": "stream",
          "name": "stdout",
          "text": [
            "Lowercased Text: i can't believe it's not butter! you're amazing, aren't you?\n",
            "After Expanding Contractions: i cannot believe it is not butter! you are amazing, aren not you?\n",
            "Tokens without Punctuation: i cannot believe it is not butter you are amazing aren not you\n",
            "\n",
            "Original Text: I can't believe it's not butter! You're amazing, aren't you?\n",
            "Normalized Text: i cannot believe it is not butter you are amazing aren not you\n"
          ]
        }
      ]
    },
    {
      "cell_type": "code",
      "source": [],
      "metadata": {
        "id": "dZ7msZUEPV9b"
      },
      "execution_count": null,
      "outputs": []
    }
  ]
}