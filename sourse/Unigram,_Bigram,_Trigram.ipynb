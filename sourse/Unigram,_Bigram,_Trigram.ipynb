{
  "nbformat": 4,
  "nbformat_minor": 0,
  "metadata": {
    "colab": {
      "provenance": []
    },
    "kernelspec": {
      "name": "python3",
      "display_name": "Python 3"
    },
    "language_info": {
      "name": "python"
    }
  },
  "cells": [
    {
      "cell_type": "markdown",
      "source": [
        "# Unigram, Bigram, Trigram using NLTK"
      ],
      "metadata": {
        "id": "3OZTS95mxeL9"
      }
    },
    {
      "cell_type": "code",
      "execution_count": 6,
      "metadata": {
        "colab": {
          "base_uri": "https://localhost:8080/"
        },
        "id": "VAx9gli6xUom",
        "outputId": "829dde26-f37e-48fc-88c4-6b5cc0e01fcd"
      },
      "outputs": [
        {
          "output_type": "stream",
          "name": "stderr",
          "text": [
            "[nltk_data] Downloading package punkt_tab to /root/nltk_data...\n",
            "[nltk_data]   Package punkt_tab is already up-to-date!\n"
          ]
        },
        {
          "output_type": "execute_result",
          "data": {
            "text/plain": [
              "True"
            ]
          },
          "metadata": {},
          "execution_count": 6
        }
      ],
      "source": [
        "# Import necessary libraries\n",
        "import nltk\n",
        "from nltk.tokenize import word_tokenize\n",
        "from nltk.util import ngrams\n",
        "\n",
        "\n",
        "# Download NLTK resources if not already downloaded\n",
        "nltk.download('punkt_tab')"
      ]
    },
    {
      "cell_type": "code",
      "source": [
        "def generate_ngrams(text: str, n: int) -> list:\n",
        "    \"\"\"\n",
        "    Generate n-grams (unigrams, bigrams, trigrams) from the given text.\n",
        "\n",
        "    Parameters:\n",
        "    text (str): The input text to generate n-grams from.\n",
        "    n (int): The value of n for n-grams (1 for unigram, 2 for bigram, 3 for trigram).\n",
        "\n",
        "    Returns:\n",
        "    list: A list of n-grams.\n",
        "    \"\"\"\n",
        "    # Tokenize the input text into words\n",
        "    tokens = word_tokenize(text)\n",
        "\n",
        "    # Generate n-grams\n",
        "    n_grams = list(ngrams(tokens, n))\n",
        "\n",
        "    return n_grams"
      ],
      "metadata": {
        "id": "d_FlwvzrxsHr"
      },
      "execution_count": 7,
      "outputs": []
    },
    {
      "cell_type": "code",
      "source": [
        "# Example usage\n",
        "if __name__ == \"__main__\":\n",
        "    sample_text = \"Natural language processing is an exciting field of study.\"\n",
        "\n",
        "    # Generate Unigrams (1-grams)\n",
        "    unigrams = generate_ngrams(sample_text, 1)\n",
        "    print(\"Unigrams:\", unigrams)\n",
        "\n",
        "    # Generate Bigrams (2-grams)\n",
        "    bigrams = generate_ngrams(sample_text, 2)\n",
        "    print(\"Bigrams:\", bigrams)\n",
        "\n",
        "    # Generate Trigrams (3-grams)\n",
        "    trigrams = generate_ngrams(sample_text, 3)\n",
        "    print(\"Trigrams:\", trigrams)"
      ],
      "metadata": {
        "colab": {
          "base_uri": "https://localhost:8080/"
        },
        "id": "lFiKf8VXx27p",
        "outputId": "2b658c27-d452-4b0e-bb67-73f4f6f1e305"
      },
      "execution_count": 8,
      "outputs": [
        {
          "output_type": "stream",
          "name": "stdout",
          "text": [
            "Unigrams: [('Natural',), ('language',), ('processing',), ('is',), ('an',), ('exciting',), ('field',), ('of',), ('study',), ('.',)]\n",
            "Bigrams: [('Natural', 'language'), ('language', 'processing'), ('processing', 'is'), ('is', 'an'), ('an', 'exciting'), ('exciting', 'field'), ('field', 'of'), ('of', 'study'), ('study', '.')]\n",
            "Trigrams: [('Natural', 'language', 'processing'), ('language', 'processing', 'is'), ('processing', 'is', 'an'), ('is', 'an', 'exciting'), ('an', 'exciting', 'field'), ('exciting', 'field', 'of'), ('field', 'of', 'study'), ('of', 'study', '.')]\n"
          ]
        }
      ]
    },
    {
      "cell_type": "code",
      "source": [],
      "metadata": {
        "id": "QyBgcQLWyT_h"
      },
      "execution_count": null,
      "outputs": []
    }
  ]
}