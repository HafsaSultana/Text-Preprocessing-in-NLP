{
  "nbformat": 4,
  "nbformat_minor": 0,
  "metadata": {
    "colab": {
      "provenance": []
    },
    "kernelspec": {
      "name": "python3",
      "display_name": "Python 3"
    },
    "language_info": {
      "name": "python"
    }
  },
  "cells": [
    {
      "cell_type": "markdown",
      "source": [
        "# Stemming using NLTK\n",
        "\n",
        "Stemming is a process in Natural Language Processing (NLP) that reduces words to their base or root form by removing suffixes.\n",
        "\n",
        "For example, words like \"running\", \"runner\", and \"ran\" are reduced to \"run\". The purpose of stemming is to simplify the text for further analysis, often in tasks like search, information retrieval, or text classification."
      ],
      "metadata": {
        "id": "ZWkNAdMFTSnY"
      }
    },
    {
      "cell_type": "code",
      "execution_count": 8,
      "metadata": {
        "id": "VeIiTVb_TNKW"
      },
      "outputs": [],
      "source": [
        "import nltk\n",
        "import spacy\n",
        "\n",
        "from nltk.tokenize import word_tokenize\n",
        "from nltk.stem import PorterStemmer"
      ]
    },
    {
      "cell_type": "code",
      "source": [
        "# Download NLTK resources if not already downloaded\n",
        "nltk.download('punkt_tab')"
      ],
      "metadata": {
        "colab": {
          "base_uri": "https://localhost:8080/"
        },
        "id": "34Nr42Y-Wa3m",
        "outputId": "50c0d02a-682f-455c-d6fa-56ac5886f6eb"
      },
      "execution_count": 9,
      "outputs": [
        {
          "output_type": "stream",
          "name": "stderr",
          "text": [
            "[nltk_data] Downloading package punkt_tab to /root/nltk_data...\n",
            "[nltk_data]   Package punkt_tab is already up-to-date!\n"
          ]
        },
        {
          "output_type": "execute_result",
          "data": {
            "text/plain": [
              "True"
            ]
          },
          "metadata": {},
          "execution_count": 9
        }
      ]
    },
    {
      "cell_type": "code",
      "source": [
        "# Initialize the Porter Stemmer\n",
        "stemmer = PorterStemmer()\n",
        "\n",
        "def stem_text(text: str) -> str:\n",
        "    \"\"\"\n",
        "    Stem the text using the Porter Stemmer.\n",
        "    Parameters: text (str): The text to be stemmed.\n",
        "    Returns: str: The stemmed text.\n",
        "    \"\"\"\n",
        "    # Tokenize the text\n",
        "    tokens = word_tokenize(text)\n",
        "\n",
        "    # Apply stemming to each token\n",
        "    stemmed_tokens = [stemmer.stem(token) for token in tokens]\n",
        "\n",
        "    # Join the stemmed tokens back into a single string\n",
        "    return \" \".join(stemmed_tokens)\n",
        "\n"
      ],
      "metadata": {
        "id": "Aj8SJiWyWJyh"
      },
      "execution_count": 10,
      "outputs": []
    },
    {
      "cell_type": "code",
      "source": [
        "# Example usage\n",
        "if __name__ == \"__main__\":\n",
        "    sample_text = \"I am running and playing in the park, but I ran out of time.\"\n",
        "    stemmed_text = stem_text(sample_text)\n",
        "\n",
        "    print(\"Original Text:\", sample_text)\n",
        "    print(\"Stemmed Text:\", stemmed_text)"
      ],
      "metadata": {
        "colab": {
          "base_uri": "https://localhost:8080/"
        },
        "id": "ZXPSlPKBWQVh",
        "outputId": "e004f6f7-9a76-4575-e73b-57a65a6d9fae"
      },
      "execution_count": 11,
      "outputs": [
        {
          "output_type": "stream",
          "name": "stdout",
          "text": [
            "Original Text: I am running and playing in the park, but I ran out of time.\n",
            "Stemmed Text: i am run and play in the park , but i ran out of time .\n"
          ]
        }
      ]
    },
    {
      "cell_type": "code",
      "source": [],
      "metadata": {
        "id": "nzCnSEzkWWcI"
      },
      "execution_count": 11,
      "outputs": []
    }
  ]
}