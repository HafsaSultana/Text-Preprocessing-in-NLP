{
  "nbformat": 4,
  "nbformat_minor": 0,
  "metadata": {
    "colab": {
      "provenance": []
    },
    "kernelspec": {
      "name": "python3",
      "display_name": "Python 3"
    },
    "language_info": {
      "name": "python"
    }
  },
  "cells": [
    {
      "cell_type": "markdown",
      "source": [
        "# TF-IDF"
      ],
      "metadata": {
        "id": "p8o0Yfd30lcY"
      }
    },
    {
      "cell_type": "code",
      "source": [
        "import nltk\n",
        "import pandas as pd\n",
        "from sklearn.feature_extraction.text import TfidfVectorizer\n",
        "\n",
        "\n",
        "# Download NLTK resources if not already downloaded\n",
        "nltk.download('punkt_tab') # download punkt_tab "
      ],
      "metadata": {
        "colab": {
          "base_uri": "https://localhost:8080/"
        },
        "id": "MAntqCrF0vtn",
        "outputId": "0feaa196-07f0-47ab-99f1-c62e18d89e4e"
      },
      "execution_count": 1,
      "outputs": [
        {
          "output_type": "stream",
          "name": "stderr",
          "text": [
            "[nltk_data] Downloading package punkt_tab to /root/nltk_data...\n",
            "[nltk_data]   Unzipping tokenizers/punkt_tab.zip.\n"
          ]
        },
        {
          "output_type": "execute_result",
          "data": {
            "text/plain": [
              "True"
            ]
          },
          "metadata": {},
          "execution_count": 1
        }
      ]
    },
    {
      "cell_type": "code",
      "execution_count": 3,
      "metadata": {
        "id": "V4gvPowx0e0c"
      },
      "outputs": [],
      "source": [
        "# Sample corpus (list of documents)\n",
        "corpus = [\n",
        "    \"I love machine learning\",\n",
        "    \"Machine learning is fun\",\n",
        "    \"I enjoy natural language processing\"\n",
        "]\n",
        "\n",
        "# Initialize the TfidfVectorizer\n",
        "vectorizer = TfidfVectorizer()\n",
        "\n",
        "# Fit and transform the corpus into a TF-IDF matrix\n",
        "tfidf_matrix = vectorizer.fit_transform(corpus)\n",
        "\n",
        "# Convert the matrix to a dense format (optional for visualization)\n",
        "dense_matrix = tfidf_matrix.todense()\n",
        "\n",
        "# Get the feature names (words)\n",
        "feature_names = vectorizer.get_feature_names_out()"
      ]
    },
    {
      "cell_type": "code",
      "source": [
        "# Display the result as a DataFrame for clarity\n",
        "df_tfidf = pd.DataFrame(dense_matrix, columns=feature_names)\n",
        "\n",
        "print(df_tfidf)\n"
      ],
      "metadata": {
        "colab": {
          "base_uri": "https://localhost:8080/"
        },
        "id": "KvNMONZT0yac",
        "outputId": "37c8b0b9-7fab-42a7-dfe5-4034435b6422"
      },
      "execution_count": 4,
      "outputs": [
        {
          "output_type": "stream",
          "name": "stdout",
          "text": [
            "   enjoy       fun        is  language  learning      love   machine  natural  \\\n",
            "0    0.0  0.000000  0.000000       0.0  0.517856  0.680919  0.517856      0.0   \n",
            "1    0.0  0.562829  0.562829       0.0  0.428046  0.000000  0.428046      0.0   \n",
            "2    0.5  0.000000  0.000000       0.5  0.000000  0.000000  0.000000      0.5   \n",
            "\n",
            "   processing  \n",
            "0         0.0  \n",
            "1         0.0  \n",
            "2         0.5  \n"
          ]
        }
      ]
    },
    {
      "cell_type": "code",
      "source": [],
      "metadata": {
        "id": "iPfmfWiH1QSj"
      },
      "execution_count": null,
      "outputs": []
    }
  ]
}
